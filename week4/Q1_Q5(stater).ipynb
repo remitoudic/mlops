{
  "cells": [
    {
      "cell_type": "code",
      "execution_count": 4,
      "id": "2c51efaa",
      "metadata": {
        "colab": {
          "base_uri": "https://localhost:8080/"
        },
        "id": "2c51efaa",
        "outputId": "08844f44-7c8f-4a86-ab97-2164b582ca41"
      },
      "outputs": [
        {
          "output_type": "stream",
          "name": "stdout",
          "text": [
            "scikit-learn==1.2.2\n"
          ]
        }
      ],
      "source": [
        "!pip freeze | grep scikit-learn"
      ]
    },
    {
      "cell_type": "code",
      "execution_count": 5,
      "id": "4acf73a0-51b5-4663-9bb8-8eb947863e17",
      "metadata": {
        "colab": {
          "base_uri": "https://localhost:8080/"
        },
        "id": "4acf73a0-51b5-4663-9bb8-8eb947863e17",
        "outputId": "36b94b0e-3ccf-46ef-fa52-c546888c3bbd"
      },
      "outputs": [
        {
          "output_type": "stream",
          "name": "stdout",
          "text": [
            "Python 3.10.12\n"
          ]
        }
      ],
      "source": [
        "!python -V"
      ]
    },
    {
      "cell_type": "code",
      "source": [
        "!ls"
      ],
      "metadata": {
        "colab": {
          "base_uri": "https://localhost:8080/"
        },
        "id": "ScyQddO0HdRS",
        "outputId": "545eefd2-6863-47ec-9077-5338b4abb13a"
      },
      "id": "ScyQddO0HdRS",
      "execution_count": 6,
      "outputs": [
        {
          "output_type": "stream",
          "name": "stdout",
          "text": [
            "sample_data\n"
          ]
        }
      ]
    },
    {
      "cell_type": "code",
      "execution_count": 7,
      "id": "0ef880a0",
      "metadata": {
        "id": "0ef880a0"
      },
      "outputs": [],
      "source": [
        "import pickle\n",
        "import pandas as pd"
      ]
    },
    {
      "cell_type": "code",
      "execution_count": 10,
      "id": "7836ccfd",
      "metadata": {
        "colab": {
          "base_uri": "https://localhost:8080/"
        },
        "id": "7836ccfd",
        "outputId": "8384cab7-06f3-4081-f2be-85cf5eefef13"
      },
      "outputs": [
        {
          "output_type": "stream",
          "name": "stderr",
          "text": [
            "/usr/local/lib/python3.10/dist-packages/sklearn/base.py:318: UserWarning: Trying to unpickle estimator DictVectorizer from version 1.5.0 when using version 1.2.2. This might lead to breaking code or invalid results. Use at your own risk. For more info please refer to:\n",
            "https://scikit-learn.org/stable/model_persistence.html#security-maintainability-limitations\n",
            "  warnings.warn(\n",
            "/usr/local/lib/python3.10/dist-packages/sklearn/base.py:318: UserWarning: Trying to unpickle estimator LinearRegression from version 1.5.0 when using version 1.2.2. This might lead to breaking code or invalid results. Use at your own risk. For more info please refer to:\n",
            "https://scikit-learn.org/stable/model_persistence.html#security-maintainability-limitations\n",
            "  warnings.warn(\n"
          ]
        }
      ],
      "source": [
        "with open('model.bin', 'rb') as f_in:\n",
        "    dv, model = pickle.load(f_in)"
      ]
    },
    {
      "cell_type": "code",
      "execution_count": 11,
      "id": "41c08294",
      "metadata": {
        "id": "41c08294"
      },
      "outputs": [],
      "source": [
        "categorical = ['PULocationID', 'DOLocationID']\n",
        "\n",
        "def read_data(filename):\n",
        "    df = pd.read_parquet(filename)\n",
        "\n",
        "    df['duration'] = df.tpep_dropoff_datetime - df.tpep_pickup_datetime\n",
        "    df['duration'] = df.duration.dt.total_seconds() / 60\n",
        "\n",
        "    df = df[(df.duration >= 1) & (df.duration <= 60)].copy()\n",
        "\n",
        "    df[categorical] = df[categorical].fillna(-1).astype('int').astype('str')\n",
        "\n",
        "    return df"
      ]
    },
    {
      "cell_type": "code",
      "source": [
        "# from google.colab import drive\n",
        "# drive.mount('/content/drive')"
      ],
      "metadata": {
        "id": "fwpHeBgFGrKB"
      },
      "id": "fwpHeBgFGrKB",
      "execution_count": 8,
      "outputs": []
    },
    {
      "cell_type": "code",
      "execution_count": 12,
      "id": "4854399a",
      "metadata": {
        "id": "4854399a"
      },
      "outputs": [],
      "source": [
        "df = read_data('https://d37ci6vzurychx.cloudfront.net/trip-data/yellow_tripdata_2023-04.parquet')"
      ]
    },
    {
      "cell_type": "code",
      "execution_count": 13,
      "id": "669fda0a",
      "metadata": {
        "id": "669fda0a"
      },
      "outputs": [],
      "source": [
        "dicts = df[categorical].to_dict(orient='records')\n",
        "X_val = dv.transform(dicts)\n",
        "y_pred = model.predict(X_val)"
      ]
    },
    {
      "cell_type": "code",
      "execution_count": 14,
      "id": "bf532ae7-1897-428c-ba0c-875ccaf7d76c",
      "metadata": {
        "id": "bf532ae7-1897-428c-ba0c-875ccaf7d76c",
        "colab": {
          "base_uri": "https://localhost:8080/"
        },
        "outputId": "2a02a559-d860-49a1-bb6c-65bca490b21a"
      },
      "outputs": [
        {
          "output_type": "execute_result",
          "data": {
            "text/plain": [
              "6.353996941249663"
            ]
          },
          "metadata": {},
          "execution_count": 14
        }
      ],
      "source": [
        "# Question 1 -5\n",
        "standard_dev=y_pred.std()\n",
        "standard_dev"
      ]
    },
    {
      "cell_type": "code",
      "source": [
        "year=2023\n",
        "month=3\n",
        "\n",
        "df['ride_id'] = f'{year:04d}/{month:02d}_' + df.index.astype('str')\n",
        "df[\"result\"]=y_pred\n",
        "\n",
        "df_result= df[['ride_id',\"result\" ]]"
      ],
      "metadata": {
        "id": "XBIzcHS5Jvm9"
      },
      "id": "XBIzcHS5Jvm9",
      "execution_count": 34,
      "outputs": []
    },
    {
      "cell_type": "code",
      "source": [
        "df_result.to_parquet(\n",
        "    \"output_file\",\n",
        "    engine='pyarrow',\n",
        "    compression=None,\n",
        "    index=False\n",
        ")"
      ],
      "metadata": {
        "id": "wRSsUE7jN7d8"
      },
      "id": "wRSsUE7jN7d8",
      "execution_count": 36,
      "outputs": []
    },
    {
      "cell_type": "code",
      "source": [
        "! ls -l\n"
      ],
      "metadata": {
        "colab": {
          "base_uri": "https://localhost:8080/"
        },
        "id": "cl3vUM-qTTsF",
        "outputId": "2f0bb25d-6709-4ab8-b2f1-1fbcf77e058b"
      },
      "id": "cl3vUM-qTTsF",
      "execution_count": 40,
      "outputs": [
        {
          "output_type": "stream",
          "name": "stdout",
          "text": [
            "total 67068\n",
            "drwx------ 5 root root     4096 Jun 24 07:18  drive\n",
            "-rw-r--r-- 1 root root    17376 Jun 24 07:21  model.bin\n",
            "-rw-r--r-- 1 root root 68641704 Jun 24 08:14  output_file\n",
            "drwxr-xr-x 1 root root     4096 Jun 20 18:46  sample_data\n",
            "drwxr-xr-x 2 root root     4096 Jun 24 07:16 'Untitled Folder'\n"
          ]
        }
      ]
    },
    {
      "cell_type": "code",
      "source": [],
      "metadata": {
        "id": "QQkEvo1gVE3W"
      },
      "id": "QQkEvo1gVE3W",
      "execution_count": null,
      "outputs": []
    }
  ],
  "metadata": {
    "kernelspec": {
      "display_name": "Python 3 (ipykernel)",
      "language": "python",
      "name": "python3"
    },
    "language_info": {
      "codemirror_mode": {
        "name": "ipython",
        "version": 3
      },
      "file_extension": ".py",
      "mimetype": "text/x-python",
      "name": "python",
      "nbconvert_exporter": "python",
      "pygments_lexer": "ipython3",
      "version": "3.10.13"
    },
    "colab": {
      "provenance": []
    }
  },
  "nbformat": 4,
  "nbformat_minor": 5
}