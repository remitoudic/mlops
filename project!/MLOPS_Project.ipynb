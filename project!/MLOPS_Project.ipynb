{
  "nbformat": 4,
  "nbformat_minor": 0,
  "metadata": {
    "colab": {
      "provenance": []
    },
    "kernelspec": {
      "name": "python3",
      "display_name": "Python 3"
    },
    "language_info": {
      "name": "python"
    },
    "widgets": {
      "application/vnd.jupyter.widget-state+json": {
        "7622b00d3b2a41f584ab186ced178878": {
          "model_module": "@jupyter-widgets/controls",
          "model_name": "HBoxModel",
          "model_module_version": "1.5.0",
          "state": {
            "_dom_classes": [],
            "_model_module": "@jupyter-widgets/controls",
            "_model_module_version": "1.5.0",
            "_model_name": "HBoxModel",
            "_view_count": null,
            "_view_module": "@jupyter-widgets/controls",
            "_view_module_version": "1.5.0",
            "_view_name": "HBoxView",
            "box_style": "",
            "children": [
              "IPY_MODEL_3a8f526fd4814a92bb90ec73aecefe85",
              "IPY_MODEL_5433a2f44a8646afa8ebf643d1ba83e2",
              "IPY_MODEL_082f17d77caf46efb68085b637959634"
            ],
            "layout": "IPY_MODEL_aaafe02921db4f65b2ab1e7f5f0fe976"
          }
        },
        "3a8f526fd4814a92bb90ec73aecefe85": {
          "model_module": "@jupyter-widgets/controls",
          "model_name": "HTMLModel",
          "model_module_version": "1.5.0",
          "state": {
            "_dom_classes": [],
            "_model_module": "@jupyter-widgets/controls",
            "_model_module_version": "1.5.0",
            "_model_name": "HTMLModel",
            "_view_count": null,
            "_view_module": "@jupyter-widgets/controls",
            "_view_module_version": "1.5.0",
            "_view_name": "HTMLView",
            "description": "",
            "description_tooltip": null,
            "layout": "IPY_MODEL_b2bed72185604439af3eeddd5a362ae5",
            "placeholder": "​",
            "style": "IPY_MODEL_0e4fab04a3234053a54920770667f661",
            "value": "lags grid: 100%"
          }
        },
        "5433a2f44a8646afa8ebf643d1ba83e2": {
          "model_module": "@jupyter-widgets/controls",
          "model_name": "FloatProgressModel",
          "model_module_version": "1.5.0",
          "state": {
            "_dom_classes": [],
            "_model_module": "@jupyter-widgets/controls",
            "_model_module_version": "1.5.0",
            "_model_name": "FloatProgressModel",
            "_view_count": null,
            "_view_module": "@jupyter-widgets/controls",
            "_view_module_version": "1.5.0",
            "_view_name": "ProgressView",
            "bar_style": "success",
            "description": "",
            "description_tooltip": null,
            "layout": "IPY_MODEL_530268512f614006bb7eb3402b09d933",
            "max": 2,
            "min": 0,
            "orientation": "horizontal",
            "style": "IPY_MODEL_44e1d76028a04a5fa4623a3ec2d81f13",
            "value": 2
          }
        },
        "082f17d77caf46efb68085b637959634": {
          "model_module": "@jupyter-widgets/controls",
          "model_name": "HTMLModel",
          "model_module_version": "1.5.0",
          "state": {
            "_dom_classes": [],
            "_model_module": "@jupyter-widgets/controls",
            "_model_module_version": "1.5.0",
            "_model_name": "HTMLModel",
            "_view_count": null,
            "_view_module": "@jupyter-widgets/controls",
            "_view_module_version": "1.5.0",
            "_view_name": "HTMLView",
            "description": "",
            "description_tooltip": null,
            "layout": "IPY_MODEL_b1d69feba78f451a952efc37c3e4ae6d",
            "placeholder": "​",
            "style": "IPY_MODEL_5f51184f252145f09bed5623cb46d288",
            "value": " 2/2 [00:38&lt;00:00, 19.11s/it]"
          }
        },
        "aaafe02921db4f65b2ab1e7f5f0fe976": {
          "model_module": "@jupyter-widgets/base",
          "model_name": "LayoutModel",
          "model_module_version": "1.2.0",
          "state": {
            "_model_module": "@jupyter-widgets/base",
            "_model_module_version": "1.2.0",
            "_model_name": "LayoutModel",
            "_view_count": null,
            "_view_module": "@jupyter-widgets/base",
            "_view_module_version": "1.2.0",
            "_view_name": "LayoutView",
            "align_content": null,
            "align_items": null,
            "align_self": null,
            "border": null,
            "bottom": null,
            "display": null,
            "flex": null,
            "flex_flow": null,
            "grid_area": null,
            "grid_auto_columns": null,
            "grid_auto_flow": null,
            "grid_auto_rows": null,
            "grid_column": null,
            "grid_gap": null,
            "grid_row": null,
            "grid_template_areas": null,
            "grid_template_columns": null,
            "grid_template_rows": null,
            "height": null,
            "justify_content": null,
            "justify_items": null,
            "left": null,
            "margin": null,
            "max_height": null,
            "max_width": null,
            "min_height": null,
            "min_width": null,
            "object_fit": null,
            "object_position": null,
            "order": null,
            "overflow": null,
            "overflow_x": null,
            "overflow_y": null,
            "padding": null,
            "right": null,
            "top": null,
            "visibility": null,
            "width": null
          }
        },
        "b2bed72185604439af3eeddd5a362ae5": {
          "model_module": "@jupyter-widgets/base",
          "model_name": "LayoutModel",
          "model_module_version": "1.2.0",
          "state": {
            "_model_module": "@jupyter-widgets/base",
            "_model_module_version": "1.2.0",
            "_model_name": "LayoutModel",
            "_view_count": null,
            "_view_module": "@jupyter-widgets/base",
            "_view_module_version": "1.2.0",
            "_view_name": "LayoutView",
            "align_content": null,
            "align_items": null,
            "align_self": null,
            "border": null,
            "bottom": null,
            "display": null,
            "flex": null,
            "flex_flow": null,
            "grid_area": null,
            "grid_auto_columns": null,
            "grid_auto_flow": null,
            "grid_auto_rows": null,
            "grid_column": null,
            "grid_gap": null,
            "grid_row": null,
            "grid_template_areas": null,
            "grid_template_columns": null,
            "grid_template_rows": null,
            "height": null,
            "justify_content": null,
            "justify_items": null,
            "left": null,
            "margin": null,
            "max_height": null,
            "max_width": null,
            "min_height": null,
            "min_width": null,
            "object_fit": null,
            "object_position": null,
            "order": null,
            "overflow": null,
            "overflow_x": null,
            "overflow_y": null,
            "padding": null,
            "right": null,
            "top": null,
            "visibility": null,
            "width": null
          }
        },
        "0e4fab04a3234053a54920770667f661": {
          "model_module": "@jupyter-widgets/controls",
          "model_name": "DescriptionStyleModel",
          "model_module_version": "1.5.0",
          "state": {
            "_model_module": "@jupyter-widgets/controls",
            "_model_module_version": "1.5.0",
            "_model_name": "DescriptionStyleModel",
            "_view_count": null,
            "_view_module": "@jupyter-widgets/base",
            "_view_module_version": "1.2.0",
            "_view_name": "StyleView",
            "description_width": ""
          }
        },
        "530268512f614006bb7eb3402b09d933": {
          "model_module": "@jupyter-widgets/base",
          "model_name": "LayoutModel",
          "model_module_version": "1.2.0",
          "state": {
            "_model_module": "@jupyter-widgets/base",
            "_model_module_version": "1.2.0",
            "_model_name": "LayoutModel",
            "_view_count": null,
            "_view_module": "@jupyter-widgets/base",
            "_view_module_version": "1.2.0",
            "_view_name": "LayoutView",
            "align_content": null,
            "align_items": null,
            "align_self": null,
            "border": null,
            "bottom": null,
            "display": null,
            "flex": null,
            "flex_flow": null,
            "grid_area": null,
            "grid_auto_columns": null,
            "grid_auto_flow": null,
            "grid_auto_rows": null,
            "grid_column": null,
            "grid_gap": null,
            "grid_row": null,
            "grid_template_areas": null,
            "grid_template_columns": null,
            "grid_template_rows": null,
            "height": null,
            "justify_content": null,
            "justify_items": null,
            "left": null,
            "margin": null,
            "max_height": null,
            "max_width": null,
            "min_height": null,
            "min_width": null,
            "object_fit": null,
            "object_position": null,
            "order": null,
            "overflow": null,
            "overflow_x": null,
            "overflow_y": null,
            "padding": null,
            "right": null,
            "top": null,
            "visibility": null,
            "width": null
          }
        },
        "44e1d76028a04a5fa4623a3ec2d81f13": {
          "model_module": "@jupyter-widgets/controls",
          "model_name": "ProgressStyleModel",
          "model_module_version": "1.5.0",
          "state": {
            "_model_module": "@jupyter-widgets/controls",
            "_model_module_version": "1.5.0",
            "_model_name": "ProgressStyleModel",
            "_view_count": null,
            "_view_module": "@jupyter-widgets/base",
            "_view_module_version": "1.2.0",
            "_view_name": "StyleView",
            "bar_color": null,
            "description_width": ""
          }
        },
        "b1d69feba78f451a952efc37c3e4ae6d": {
          "model_module": "@jupyter-widgets/base",
          "model_name": "LayoutModel",
          "model_module_version": "1.2.0",
          "state": {
            "_model_module": "@jupyter-widgets/base",
            "_model_module_version": "1.2.0",
            "_model_name": "LayoutModel",
            "_view_count": null,
            "_view_module": "@jupyter-widgets/base",
            "_view_module_version": "1.2.0",
            "_view_name": "LayoutView",
            "align_content": null,
            "align_items": null,
            "align_self": null,
            "border": null,
            "bottom": null,
            "display": null,
            "flex": null,
            "flex_flow": null,
            "grid_area": null,
            "grid_auto_columns": null,
            "grid_auto_flow": null,
            "grid_auto_rows": null,
            "grid_column": null,
            "grid_gap": null,
            "grid_row": null,
            "grid_template_areas": null,
            "grid_template_columns": null,
            "grid_template_rows": null,
            "height": null,
            "justify_content": null,
            "justify_items": null,
            "left": null,
            "margin": null,
            "max_height": null,
            "max_width": null,
            "min_height": null,
            "min_width": null,
            "object_fit": null,
            "object_position": null,
            "order": null,
            "overflow": null,
            "overflow_x": null,
            "overflow_y": null,
            "padding": null,
            "right": null,
            "top": null,
            "visibility": null,
            "width": null
          }
        },
        "5f51184f252145f09bed5623cb46d288": {
          "model_module": "@jupyter-widgets/controls",
          "model_name": "DescriptionStyleModel",
          "model_module_version": "1.5.0",
          "state": {
            "_model_module": "@jupyter-widgets/controls",
            "_model_module_version": "1.5.0",
            "_model_name": "DescriptionStyleModel",
            "_view_count": null,
            "_view_module": "@jupyter-widgets/base",
            "_view_module_version": "1.2.0",
            "_view_name": "StyleView",
            "description_width": ""
          }
        },
        "9504d9dde2354321bd1694533879e8e9": {
          "model_module": "@jupyter-widgets/controls",
          "model_name": "HBoxModel",
          "model_module_version": "1.5.0",
          "state": {
            "_dom_classes": [],
            "_model_module": "@jupyter-widgets/controls",
            "_model_module_version": "1.5.0",
            "_model_name": "HBoxModel",
            "_view_count": null,
            "_view_module": "@jupyter-widgets/controls",
            "_view_module_version": "1.5.0",
            "_view_name": "HBoxView",
            "box_style": "",
            "children": [
              "IPY_MODEL_db7257188ec84e86bb6781c2942477b1",
              "IPY_MODEL_0195c58eaada41b49f1d1667faae9abe",
              "IPY_MODEL_e3566ddf240843768685c25a261af07a"
            ],
            "layout": "IPY_MODEL_57790a2ed638475c9ea3e5e689e0fab4"
          }
        },
        "db7257188ec84e86bb6781c2942477b1": {
          "model_module": "@jupyter-widgets/controls",
          "model_name": "HTMLModel",
          "model_module_version": "1.5.0",
          "state": {
            "_dom_classes": [],
            "_model_module": "@jupyter-widgets/controls",
            "_model_module_version": "1.5.0",
            "_model_name": "HTMLModel",
            "_view_count": null,
            "_view_module": "@jupyter-widgets/controls",
            "_view_module_version": "1.5.0",
            "_view_name": "HTMLView",
            "description": "",
            "description_tooltip": null,
            "layout": "IPY_MODEL_e38febcce27445cb853e358bc8cda4e3",
            "placeholder": "​",
            "style": "IPY_MODEL_65ab6c2e53a645ebbb59f94cc63218e5",
            "value": "params grid: 100%"
          }
        },
        "0195c58eaada41b49f1d1667faae9abe": {
          "model_module": "@jupyter-widgets/controls",
          "model_name": "FloatProgressModel",
          "model_module_version": "1.5.0",
          "state": {
            "_dom_classes": [],
            "_model_module": "@jupyter-widgets/controls",
            "_model_module_version": "1.5.0",
            "_model_name": "FloatProgressModel",
            "_view_count": null,
            "_view_module": "@jupyter-widgets/controls",
            "_view_module_version": "1.5.0",
            "_view_name": "ProgressView",
            "bar_style": "",
            "description": "",
            "description_tooltip": null,
            "layout": "IPY_MODEL_104b0053e09b43ea88b1a15d44d1c3c4",
            "max": 6,
            "min": 0,
            "orientation": "horizontal",
            "style": "IPY_MODEL_976f16323f784a93a693a1e674cb0f69",
            "value": 6
          }
        },
        "e3566ddf240843768685c25a261af07a": {
          "model_module": "@jupyter-widgets/controls",
          "model_name": "HTMLModel",
          "model_module_version": "1.5.0",
          "state": {
            "_dom_classes": [],
            "_model_module": "@jupyter-widgets/controls",
            "_model_module_version": "1.5.0",
            "_model_name": "HTMLModel",
            "_view_count": null,
            "_view_module": "@jupyter-widgets/controls",
            "_view_module_version": "1.5.0",
            "_view_name": "HTMLView",
            "description": "",
            "description_tooltip": null,
            "layout": "IPY_MODEL_879f6c8d69d54c968bace0955b6fc853",
            "placeholder": "​",
            "style": "IPY_MODEL_aac536ba81de41cd86b2fd21a730e439",
            "value": " 6/6 [00:19&lt;00:00,  3.58s/it]"
          }
        },
        "57790a2ed638475c9ea3e5e689e0fab4": {
          "model_module": "@jupyter-widgets/base",
          "model_name": "LayoutModel",
          "model_module_version": "1.2.0",
          "state": {
            "_model_module": "@jupyter-widgets/base",
            "_model_module_version": "1.2.0",
            "_model_name": "LayoutModel",
            "_view_count": null,
            "_view_module": "@jupyter-widgets/base",
            "_view_module_version": "1.2.0",
            "_view_name": "LayoutView",
            "align_content": null,
            "align_items": null,
            "align_self": null,
            "border": null,
            "bottom": null,
            "display": null,
            "flex": null,
            "flex_flow": null,
            "grid_area": null,
            "grid_auto_columns": null,
            "grid_auto_flow": null,
            "grid_auto_rows": null,
            "grid_column": null,
            "grid_gap": null,
            "grid_row": null,
            "grid_template_areas": null,
            "grid_template_columns": null,
            "grid_template_rows": null,
            "height": null,
            "justify_content": null,
            "justify_items": null,
            "left": null,
            "margin": null,
            "max_height": null,
            "max_width": null,
            "min_height": null,
            "min_width": null,
            "object_fit": null,
            "object_position": null,
            "order": null,
            "overflow": null,
            "overflow_x": null,
            "overflow_y": null,
            "padding": null,
            "right": null,
            "top": null,
            "visibility": "hidden",
            "width": null
          }
        },
        "e38febcce27445cb853e358bc8cda4e3": {
          "model_module": "@jupyter-widgets/base",
          "model_name": "LayoutModel",
          "model_module_version": "1.2.0",
          "state": {
            "_model_module": "@jupyter-widgets/base",
            "_model_module_version": "1.2.0",
            "_model_name": "LayoutModel",
            "_view_count": null,
            "_view_module": "@jupyter-widgets/base",
            "_view_module_version": "1.2.0",
            "_view_name": "LayoutView",
            "align_content": null,
            "align_items": null,
            "align_self": null,
            "border": null,
            "bottom": null,
            "display": null,
            "flex": null,
            "flex_flow": null,
            "grid_area": null,
            "grid_auto_columns": null,
            "grid_auto_flow": null,
            "grid_auto_rows": null,
            "grid_column": null,
            "grid_gap": null,
            "grid_row": null,
            "grid_template_areas": null,
            "grid_template_columns": null,
            "grid_template_rows": null,
            "height": null,
            "justify_content": null,
            "justify_items": null,
            "left": null,
            "margin": null,
            "max_height": null,
            "max_width": null,
            "min_height": null,
            "min_width": null,
            "object_fit": null,
            "object_position": null,
            "order": null,
            "overflow": null,
            "overflow_x": null,
            "overflow_y": null,
            "padding": null,
            "right": null,
            "top": null,
            "visibility": null,
            "width": null
          }
        },
        "65ab6c2e53a645ebbb59f94cc63218e5": {
          "model_module": "@jupyter-widgets/controls",
          "model_name": "DescriptionStyleModel",
          "model_module_version": "1.5.0",
          "state": {
            "_model_module": "@jupyter-widgets/controls",
            "_model_module_version": "1.5.0",
            "_model_name": "DescriptionStyleModel",
            "_view_count": null,
            "_view_module": "@jupyter-widgets/base",
            "_view_module_version": "1.2.0",
            "_view_name": "StyleView",
            "description_width": ""
          }
        },
        "104b0053e09b43ea88b1a15d44d1c3c4": {
          "model_module": "@jupyter-widgets/base",
          "model_name": "LayoutModel",
          "model_module_version": "1.2.0",
          "state": {
            "_model_module": "@jupyter-widgets/base",
            "_model_module_version": "1.2.0",
            "_model_name": "LayoutModel",
            "_view_count": null,
            "_view_module": "@jupyter-widgets/base",
            "_view_module_version": "1.2.0",
            "_view_name": "LayoutView",
            "align_content": null,
            "align_items": null,
            "align_self": null,
            "border": null,
            "bottom": null,
            "display": null,
            "flex": null,
            "flex_flow": null,
            "grid_area": null,
            "grid_auto_columns": null,
            "grid_auto_flow": null,
            "grid_auto_rows": null,
            "grid_column": null,
            "grid_gap": null,
            "grid_row": null,
            "grid_template_areas": null,
            "grid_template_columns": null,
            "grid_template_rows": null,
            "height": null,
            "justify_content": null,
            "justify_items": null,
            "left": null,
            "margin": null,
            "max_height": null,
            "max_width": null,
            "min_height": null,
            "min_width": null,
            "object_fit": null,
            "object_position": null,
            "order": null,
            "overflow": null,
            "overflow_x": null,
            "overflow_y": null,
            "padding": null,
            "right": null,
            "top": null,
            "visibility": null,
            "width": null
          }
        },
        "976f16323f784a93a693a1e674cb0f69": {
          "model_module": "@jupyter-widgets/controls",
          "model_name": "ProgressStyleModel",
          "model_module_version": "1.5.0",
          "state": {
            "_model_module": "@jupyter-widgets/controls",
            "_model_module_version": "1.5.0",
            "_model_name": "ProgressStyleModel",
            "_view_count": null,
            "_view_module": "@jupyter-widgets/base",
            "_view_module_version": "1.2.0",
            "_view_name": "StyleView",
            "bar_color": null,
            "description_width": ""
          }
        },
        "879f6c8d69d54c968bace0955b6fc853": {
          "model_module": "@jupyter-widgets/base",
          "model_name": "LayoutModel",
          "model_module_version": "1.2.0",
          "state": {
            "_model_module": "@jupyter-widgets/base",
            "_model_module_version": "1.2.0",
            "_model_name": "LayoutModel",
            "_view_count": null,
            "_view_module": "@jupyter-widgets/base",
            "_view_module_version": "1.2.0",
            "_view_name": "LayoutView",
            "align_content": null,
            "align_items": null,
            "align_self": null,
            "border": null,
            "bottom": null,
            "display": null,
            "flex": null,
            "flex_flow": null,
            "grid_area": null,
            "grid_auto_columns": null,
            "grid_auto_flow": null,
            "grid_auto_rows": null,
            "grid_column": null,
            "grid_gap": null,
            "grid_row": null,
            "grid_template_areas": null,
            "grid_template_columns": null,
            "grid_template_rows": null,
            "height": null,
            "justify_content": null,
            "justify_items": null,
            "left": null,
            "margin": null,
            "max_height": null,
            "max_width": null,
            "min_height": null,
            "min_width": null,
            "object_fit": null,
            "object_position": null,
            "order": null,
            "overflow": null,
            "overflow_x": null,
            "overflow_y": null,
            "padding": null,
            "right": null,
            "top": null,
            "visibility": null,
            "width": null
          }
        },
        "aac536ba81de41cd86b2fd21a730e439": {
          "model_module": "@jupyter-widgets/controls",
          "model_name": "DescriptionStyleModel",
          "model_module_version": "1.5.0",
          "state": {
            "_model_module": "@jupyter-widgets/controls",
            "_model_module_version": "1.5.0",
            "_model_name": "DescriptionStyleModel",
            "_view_count": null,
            "_view_module": "@jupyter-widgets/base",
            "_view_module_version": "1.2.0",
            "_view_name": "StyleView",
            "description_width": ""
          }
        },
        "642717850fe948cdb9317e089ad0c4de": {
          "model_module": "@jupyter-widgets/controls",
          "model_name": "HBoxModel",
          "model_module_version": "1.5.0",
          "state": {
            "_dom_classes": [],
            "_model_module": "@jupyter-widgets/controls",
            "_model_module_version": "1.5.0",
            "_model_name": "HBoxModel",
            "_view_count": null,
            "_view_module": "@jupyter-widgets/controls",
            "_view_module_version": "1.5.0",
            "_view_name": "HBoxView",
            "box_style": "",
            "children": [
              "IPY_MODEL_f38cb1bde9494d89b8c4d6fb29d09994",
              "IPY_MODEL_b16dc80cb9c94006b48a515693a189c9",
              "IPY_MODEL_a4bd842b58524daeb10f5d860f0b78fd"
            ],
            "layout": "IPY_MODEL_213f4d2f3bd74728a0eb4d8a49685d16"
          }
        },
        "f38cb1bde9494d89b8c4d6fb29d09994": {
          "model_module": "@jupyter-widgets/controls",
          "model_name": "HTMLModel",
          "model_module_version": "1.5.0",
          "state": {
            "_dom_classes": [],
            "_model_module": "@jupyter-widgets/controls",
            "_model_module_version": "1.5.0",
            "_model_name": "HTMLModel",
            "_view_count": null,
            "_view_module": "@jupyter-widgets/controls",
            "_view_module_version": "1.5.0",
            "_view_name": "HTMLView",
            "description": "",
            "description_tooltip": null,
            "layout": "IPY_MODEL_fdffa6631c3441289b036de555601bb6",
            "placeholder": "​",
            "style": "IPY_MODEL_2d22817a9b764d85877341ef3ce7f3be",
            "value": "lags grid: 100%"
          }
        },
        "b16dc80cb9c94006b48a515693a189c9": {
          "model_module": "@jupyter-widgets/controls",
          "model_name": "FloatProgressModel",
          "model_module_version": "1.5.0",
          "state": {
            "_dom_classes": [],
            "_model_module": "@jupyter-widgets/controls",
            "_model_module_version": "1.5.0",
            "_model_name": "FloatProgressModel",
            "_view_count": null,
            "_view_module": "@jupyter-widgets/controls",
            "_view_module_version": "1.5.0",
            "_view_name": "ProgressView",
            "bar_style": "success",
            "description": "",
            "description_tooltip": null,
            "layout": "IPY_MODEL_860b4296fcad46ce9e75daad48f8ef3e",
            "max": 2,
            "min": 0,
            "orientation": "horizontal",
            "style": "IPY_MODEL_8c26b6e354c0430aabf09740a1ea0804",
            "value": 2
          }
        },
        "a4bd842b58524daeb10f5d860f0b78fd": {
          "model_module": "@jupyter-widgets/controls",
          "model_name": "HTMLModel",
          "model_module_version": "1.5.0",
          "state": {
            "_dom_classes": [],
            "_model_module": "@jupyter-widgets/controls",
            "_model_module_version": "1.5.0",
            "_model_name": "HTMLModel",
            "_view_count": null,
            "_view_module": "@jupyter-widgets/controls",
            "_view_module_version": "1.5.0",
            "_view_name": "HTMLView",
            "description": "",
            "description_tooltip": null,
            "layout": "IPY_MODEL_edd66bedda234207b22f2a2fb1b9c355",
            "placeholder": "​",
            "style": "IPY_MODEL_1f699b2ff79e4eca8c56a0c435c72281",
            "value": " 2/2 [00:32&lt;00:00, 16.69s/it]"
          }
        },
        "213f4d2f3bd74728a0eb4d8a49685d16": {
          "model_module": "@jupyter-widgets/base",
          "model_name": "LayoutModel",
          "model_module_version": "1.2.0",
          "state": {
            "_model_module": "@jupyter-widgets/base",
            "_model_module_version": "1.2.0",
            "_model_name": "LayoutModel",
            "_view_count": null,
            "_view_module": "@jupyter-widgets/base",
            "_view_module_version": "1.2.0",
            "_view_name": "LayoutView",
            "align_content": null,
            "align_items": null,
            "align_self": null,
            "border": null,
            "bottom": null,
            "display": null,
            "flex": null,
            "flex_flow": null,
            "grid_area": null,
            "grid_auto_columns": null,
            "grid_auto_flow": null,
            "grid_auto_rows": null,
            "grid_column": null,
            "grid_gap": null,
            "grid_row": null,
            "grid_template_areas": null,
            "grid_template_columns": null,
            "grid_template_rows": null,
            "height": null,
            "justify_content": null,
            "justify_items": null,
            "left": null,
            "margin": null,
            "max_height": null,
            "max_width": null,
            "min_height": null,
            "min_width": null,
            "object_fit": null,
            "object_position": null,
            "order": null,
            "overflow": null,
            "overflow_x": null,
            "overflow_y": null,
            "padding": null,
            "right": null,
            "top": null,
            "visibility": null,
            "width": null
          }
        },
        "fdffa6631c3441289b036de555601bb6": {
          "model_module": "@jupyter-widgets/base",
          "model_name": "LayoutModel",
          "model_module_version": "1.2.0",
          "state": {
            "_model_module": "@jupyter-widgets/base",
            "_model_module_version": "1.2.0",
            "_model_name": "LayoutModel",
            "_view_count": null,
            "_view_module": "@jupyter-widgets/base",
            "_view_module_version": "1.2.0",
            "_view_name": "LayoutView",
            "align_content": null,
            "align_items": null,
            "align_self": null,
            "border": null,
            "bottom": null,
            "display": null,
            "flex": null,
            "flex_flow": null,
            "grid_area": null,
            "grid_auto_columns": null,
            "grid_auto_flow": null,
            "grid_auto_rows": null,
            "grid_column": null,
            "grid_gap": null,
            "grid_row": null,
            "grid_template_areas": null,
            "grid_template_columns": null,
            "grid_template_rows": null,
            "height": null,
            "justify_content": null,
            "justify_items": null,
            "left": null,
            "margin": null,
            "max_height": null,
            "max_width": null,
            "min_height": null,
            "min_width": null,
            "object_fit": null,
            "object_position": null,
            "order": null,
            "overflow": null,
            "overflow_x": null,
            "overflow_y": null,
            "padding": null,
            "right": null,
            "top": null,
            "visibility": null,
            "width": null
          }
        },
        "2d22817a9b764d85877341ef3ce7f3be": {
          "model_module": "@jupyter-widgets/controls",
          "model_name": "DescriptionStyleModel",
          "model_module_version": "1.5.0",
          "state": {
            "_model_module": "@jupyter-widgets/controls",
            "_model_module_version": "1.5.0",
            "_model_name": "DescriptionStyleModel",
            "_view_count": null,
            "_view_module": "@jupyter-widgets/base",
            "_view_module_version": "1.2.0",
            "_view_name": "StyleView",
            "description_width": ""
          }
        },
        "860b4296fcad46ce9e75daad48f8ef3e": {
          "model_module": "@jupyter-widgets/base",
          "model_name": "LayoutModel",
          "model_module_version": "1.2.0",
          "state": {
            "_model_module": "@jupyter-widgets/base",
            "_model_module_version": "1.2.0",
            "_model_name": "LayoutModel",
            "_view_count": null,
            "_view_module": "@jupyter-widgets/base",
            "_view_module_version": "1.2.0",
            "_view_name": "LayoutView",
            "align_content": null,
            "align_items": null,
            "align_self": null,
            "border": null,
            "bottom": null,
            "display": null,
            "flex": null,
            "flex_flow": null,
            "grid_area": null,
            "grid_auto_columns": null,
            "grid_auto_flow": null,
            "grid_auto_rows": null,
            "grid_column": null,
            "grid_gap": null,
            "grid_row": null,
            "grid_template_areas": null,
            "grid_template_columns": null,
            "grid_template_rows": null,
            "height": null,
            "justify_content": null,
            "justify_items": null,
            "left": null,
            "margin": null,
            "max_height": null,
            "max_width": null,
            "min_height": null,
            "min_width": null,
            "object_fit": null,
            "object_position": null,
            "order": null,
            "overflow": null,
            "overflow_x": null,
            "overflow_y": null,
            "padding": null,
            "right": null,
            "top": null,
            "visibility": null,
            "width": null
          }
        },
        "8c26b6e354c0430aabf09740a1ea0804": {
          "model_module": "@jupyter-widgets/controls",
          "model_name": "ProgressStyleModel",
          "model_module_version": "1.5.0",
          "state": {
            "_model_module": "@jupyter-widgets/controls",
            "_model_module_version": "1.5.0",
            "_model_name": "ProgressStyleModel",
            "_view_count": null,
            "_view_module": "@jupyter-widgets/base",
            "_view_module_version": "1.2.0",
            "_view_name": "StyleView",
            "bar_color": null,
            "description_width": ""
          }
        },
        "edd66bedda234207b22f2a2fb1b9c355": {
          "model_module": "@jupyter-widgets/base",
          "model_name": "LayoutModel",
          "model_module_version": "1.2.0",
          "state": {
            "_model_module": "@jupyter-widgets/base",
            "_model_module_version": "1.2.0",
            "_model_name": "LayoutModel",
            "_view_count": null,
            "_view_module": "@jupyter-widgets/base",
            "_view_module_version": "1.2.0",
            "_view_name": "LayoutView",
            "align_content": null,
            "align_items": null,
            "align_self": null,
            "border": null,
            "bottom": null,
            "display": null,
            "flex": null,
            "flex_flow": null,
            "grid_area": null,
            "grid_auto_columns": null,
            "grid_auto_flow": null,
            "grid_auto_rows": null,
            "grid_column": null,
            "grid_gap": null,
            "grid_row": null,
            "grid_template_areas": null,
            "grid_template_columns": null,
            "grid_template_rows": null,
            "height": null,
            "justify_content": null,
            "justify_items": null,
            "left": null,
            "margin": null,
            "max_height": null,
            "max_width": null,
            "min_height": null,
            "min_width": null,
            "object_fit": null,
            "object_position": null,
            "order": null,
            "overflow": null,
            "overflow_x": null,
            "overflow_y": null,
            "padding": null,
            "right": null,
            "top": null,
            "visibility": null,
            "width": null
          }
        },
        "1f699b2ff79e4eca8c56a0c435c72281": {
          "model_module": "@jupyter-widgets/controls",
          "model_name": "DescriptionStyleModel",
          "model_module_version": "1.5.0",
          "state": {
            "_model_module": "@jupyter-widgets/controls",
            "_model_module_version": "1.5.0",
            "_model_name": "DescriptionStyleModel",
            "_view_count": null,
            "_view_module": "@jupyter-widgets/base",
            "_view_module_version": "1.2.0",
            "_view_name": "StyleView",
            "description_width": ""
          }
        },
        "f67d079d3e1a4511b3ee54c3b3b23e00": {
          "model_module": "@jupyter-widgets/controls",
          "model_name": "HBoxModel",
          "model_module_version": "1.5.0",
          "state": {
            "_dom_classes": [],
            "_model_module": "@jupyter-widgets/controls",
            "_model_module_version": "1.5.0",
            "_model_name": "HBoxModel",
            "_view_count": null,
            "_view_module": "@jupyter-widgets/controls",
            "_view_module_version": "1.5.0",
            "_view_name": "HBoxView",
            "box_style": "",
            "children": [
              "IPY_MODEL_30778273e570438492828446b525487c",
              "IPY_MODEL_b855640802a3471d956ac7a1e65fd41b",
              "IPY_MODEL_92ffce00a3534ed58e56ccaa6bfe65bb"
            ],
            "layout": "IPY_MODEL_a800b872e81c4b86959b5068a7c3c749"
          }
        },
        "30778273e570438492828446b525487c": {
          "model_module": "@jupyter-widgets/controls",
          "model_name": "HTMLModel",
          "model_module_version": "1.5.0",
          "state": {
            "_dom_classes": [],
            "_model_module": "@jupyter-widgets/controls",
            "_model_module_version": "1.5.0",
            "_model_name": "HTMLModel",
            "_view_count": null,
            "_view_module": "@jupyter-widgets/controls",
            "_view_module_version": "1.5.0",
            "_view_name": "HTMLView",
            "description": "",
            "description_tooltip": null,
            "layout": "IPY_MODEL_4c3eba12d8774e4c849b9f99cfe55fb5",
            "placeholder": "​",
            "style": "IPY_MODEL_1c97e98d2cb74bcb80c559f99eac9487",
            "value": "params grid: 100%"
          }
        },
        "b855640802a3471d956ac7a1e65fd41b": {
          "model_module": "@jupyter-widgets/controls",
          "model_name": "FloatProgressModel",
          "model_module_version": "1.5.0",
          "state": {
            "_dom_classes": [],
            "_model_module": "@jupyter-widgets/controls",
            "_model_module_version": "1.5.0",
            "_model_name": "FloatProgressModel",
            "_view_count": null,
            "_view_module": "@jupyter-widgets/controls",
            "_view_module_version": "1.5.0",
            "_view_name": "ProgressView",
            "bar_style": "",
            "description": "",
            "description_tooltip": null,
            "layout": "IPY_MODEL_3671b06cdffb4940a2607ff910288443",
            "max": 24,
            "min": 0,
            "orientation": "horizontal",
            "style": "IPY_MODEL_0919a9450322412fb02d95d203aec004",
            "value": 24
          }
        },
        "92ffce00a3534ed58e56ccaa6bfe65bb": {
          "model_module": "@jupyter-widgets/controls",
          "model_name": "HTMLModel",
          "model_module_version": "1.5.0",
          "state": {
            "_dom_classes": [],
            "_model_module": "@jupyter-widgets/controls",
            "_model_module_version": "1.5.0",
            "_model_name": "HTMLModel",
            "_view_count": null,
            "_view_module": "@jupyter-widgets/controls",
            "_view_module_version": "1.5.0",
            "_view_name": "HTMLView",
            "description": "",
            "description_tooltip": null,
            "layout": "IPY_MODEL_da9a6417338d4a33ba62e154efe0fe1b",
            "placeholder": "​",
            "style": "IPY_MODEL_7beb8251b0b644f1a941606e8e7b97f4",
            "value": " 24/24 [00:13&lt;00:00,  1.43it/s]"
          }
        },
        "a800b872e81c4b86959b5068a7c3c749": {
          "model_module": "@jupyter-widgets/base",
          "model_name": "LayoutModel",
          "model_module_version": "1.2.0",
          "state": {
            "_model_module": "@jupyter-widgets/base",
            "_model_module_version": "1.2.0",
            "_model_name": "LayoutModel",
            "_view_count": null,
            "_view_module": "@jupyter-widgets/base",
            "_view_module_version": "1.2.0",
            "_view_name": "LayoutView",
            "align_content": null,
            "align_items": null,
            "align_self": null,
            "border": null,
            "bottom": null,
            "display": null,
            "flex": null,
            "flex_flow": null,
            "grid_area": null,
            "grid_auto_columns": null,
            "grid_auto_flow": null,
            "grid_auto_rows": null,
            "grid_column": null,
            "grid_gap": null,
            "grid_row": null,
            "grid_template_areas": null,
            "grid_template_columns": null,
            "grid_template_rows": null,
            "height": null,
            "justify_content": null,
            "justify_items": null,
            "left": null,
            "margin": null,
            "max_height": null,
            "max_width": null,
            "min_height": null,
            "min_width": null,
            "object_fit": null,
            "object_position": null,
            "order": null,
            "overflow": null,
            "overflow_x": null,
            "overflow_y": null,
            "padding": null,
            "right": null,
            "top": null,
            "visibility": "hidden",
            "width": null
          }
        },
        "4c3eba12d8774e4c849b9f99cfe55fb5": {
          "model_module": "@jupyter-widgets/base",
          "model_name": "LayoutModel",
          "model_module_version": "1.2.0",
          "state": {
            "_model_module": "@jupyter-widgets/base",
            "_model_module_version": "1.2.0",
            "_model_name": "LayoutModel",
            "_view_count": null,
            "_view_module": "@jupyter-widgets/base",
            "_view_module_version": "1.2.0",
            "_view_name": "LayoutView",
            "align_content": null,
            "align_items": null,
            "align_self": null,
            "border": null,
            "bottom": null,
            "display": null,
            "flex": null,
            "flex_flow": null,
            "grid_area": null,
            "grid_auto_columns": null,
            "grid_auto_flow": null,
            "grid_auto_rows": null,
            "grid_column": null,
            "grid_gap": null,
            "grid_row": null,
            "grid_template_areas": null,
            "grid_template_columns": null,
            "grid_template_rows": null,
            "height": null,
            "justify_content": null,
            "justify_items": null,
            "left": null,
            "margin": null,
            "max_height": null,
            "max_width": null,
            "min_height": null,
            "min_width": null,
            "object_fit": null,
            "object_position": null,
            "order": null,
            "overflow": null,
            "overflow_x": null,
            "overflow_y": null,
            "padding": null,
            "right": null,
            "top": null,
            "visibility": null,
            "width": null
          }
        },
        "1c97e98d2cb74bcb80c559f99eac9487": {
          "model_module": "@jupyter-widgets/controls",
          "model_name": "DescriptionStyleModel",
          "model_module_version": "1.5.0",
          "state": {
            "_model_module": "@jupyter-widgets/controls",
            "_model_module_version": "1.5.0",
            "_model_name": "DescriptionStyleModel",
            "_view_count": null,
            "_view_module": "@jupyter-widgets/base",
            "_view_module_version": "1.2.0",
            "_view_name": "StyleView",
            "description_width": ""
          }
        },
        "3671b06cdffb4940a2607ff910288443": {
          "model_module": "@jupyter-widgets/base",
          "model_name": "LayoutModel",
          "model_module_version": "1.2.0",
          "state": {
            "_model_module": "@jupyter-widgets/base",
            "_model_module_version": "1.2.0",
            "_model_name": "LayoutModel",
            "_view_count": null,
            "_view_module": "@jupyter-widgets/base",
            "_view_module_version": "1.2.0",
            "_view_name": "LayoutView",
            "align_content": null,
            "align_items": null,
            "align_self": null,
            "border": null,
            "bottom": null,
            "display": null,
            "flex": null,
            "flex_flow": null,
            "grid_area": null,
            "grid_auto_columns": null,
            "grid_auto_flow": null,
            "grid_auto_rows": null,
            "grid_column": null,
            "grid_gap": null,
            "grid_row": null,
            "grid_template_areas": null,
            "grid_template_columns": null,
            "grid_template_rows": null,
            "height": null,
            "justify_content": null,
            "justify_items": null,
            "left": null,
            "margin": null,
            "max_height": null,
            "max_width": null,
            "min_height": null,
            "min_width": null,
            "object_fit": null,
            "object_position": null,
            "order": null,
            "overflow": null,
            "overflow_x": null,
            "overflow_y": null,
            "padding": null,
            "right": null,
            "top": null,
            "visibility": null,
            "width": null
          }
        },
        "0919a9450322412fb02d95d203aec004": {
          "model_module": "@jupyter-widgets/controls",
          "model_name": "ProgressStyleModel",
          "model_module_version": "1.5.0",
          "state": {
            "_model_module": "@jupyter-widgets/controls",
            "_model_module_version": "1.5.0",
            "_model_name": "ProgressStyleModel",
            "_view_count": null,
            "_view_module": "@jupyter-widgets/base",
            "_view_module_version": "1.2.0",
            "_view_name": "StyleView",
            "bar_color": null,
            "description_width": ""
          }
        },
        "da9a6417338d4a33ba62e154efe0fe1b": {
          "model_module": "@jupyter-widgets/base",
          "model_name": "LayoutModel",
          "model_module_version": "1.2.0",
          "state": {
            "_model_module": "@jupyter-widgets/base",
            "_model_module_version": "1.2.0",
            "_model_name": "LayoutModel",
            "_view_count": null,
            "_view_module": "@jupyter-widgets/base",
            "_view_module_version": "1.2.0",
            "_view_name": "LayoutView",
            "align_content": null,
            "align_items": null,
            "align_self": null,
            "border": null,
            "bottom": null,
            "display": null,
            "flex": null,
            "flex_flow": null,
            "grid_area": null,
            "grid_auto_columns": null,
            "grid_auto_flow": null,
            "grid_auto_rows": null,
            "grid_column": null,
            "grid_gap": null,
            "grid_row": null,
            "grid_template_areas": null,
            "grid_template_columns": null,
            "grid_template_rows": null,
            "height": null,
            "justify_content": null,
            "justify_items": null,
            "left": null,
            "margin": null,
            "max_height": null,
            "max_width": null,
            "min_height": null,
            "min_width": null,
            "object_fit": null,
            "object_position": null,
            "order": null,
            "overflow": null,
            "overflow_x": null,
            "overflow_y": null,
            "padding": null,
            "right": null,
            "top": null,
            "visibility": null,
            "width": null
          }
        },
        "7beb8251b0b644f1a941606e8e7b97f4": {
          "model_module": "@jupyter-widgets/controls",
          "model_name": "DescriptionStyleModel",
          "model_module_version": "1.5.0",
          "state": {
            "_model_module": "@jupyter-widgets/controls",
            "_model_module_version": "1.5.0",
            "_model_name": "DescriptionStyleModel",
            "_view_count": null,
            "_view_module": "@jupyter-widgets/base",
            "_view_module_version": "1.2.0",
            "_view_name": "StyleView",
            "description_width": ""
          }
        }
      }
    }
  },
  "cells": [
    {
      "cell_type": "markdown",
      "source": [],
      "metadata": {
        "id": "AAgA9hmvN7UR"
      }
    },
    {
      "cell_type": "markdown",
      "source": [
        "# MLops Project\n",
        "\n",
        "\n",
        "### Overview\n",
        "Part of the course - [project](https://github.com/DataTalksClub/mlops-zoomcamp/blob/main/07-project/README.md)\n",
        "\n",
        "This project aims to forecast France's energy consumption using time serie modelin\n",
        "\n",
        "\n",
        "### Data Sources\n",
        "- **RTE (Réseau de Transport d'Électricité)**: The primary source for energy consumption data in France. To access the data, you need to create an account.\n",
        "  - [RTE Data Access](https://www.services-rte.com/en/download-data-published-by-rte.html?category=consumption&type=energy_consumption)\n",
        "\n",
        "- **Open-Meteo**: Provides weather data that will be used to predict energy consumption.\n",
        "  - [Open-Meteo](https://open-meteo.com/)\n",
        "\n",
        "---\n"
      ],
      "metadata": {
        "id": "GFv73mbbOfYn"
      }
    },
    {
      "cell_type": "code",
      "source": [
        "Dependencies to install\n",
        "!pip install openmeteo-requests requests-cache retry-requests numpy pandas skforecast"
      ],
      "metadata": {
        "collapsed": true,
        "id": "dEwPHhLYq7e4"
      },
      "execution_count": null,
      "outputs": []
    },
    {
      "cell_type": "markdown",
      "source": [
        "### DATA PREPARTION"
      ],
      "metadata": {
        "id": "Yi3nkfrgGAhq"
      }
    },
    {
      "cell_type": "code",
      "source": [
        "import pandas  as pd\n",
        "\n",
        "input_data=None\n",
        "years=[2022,2023]\n",
        "\n",
        "def get_input_data( year: int):\n",
        "  daily_cons = pd.read_excel(f'drive/MyDrive/mlops_data/consumptions/daily_{year}.xls', skiprows=17,  usecols=lambda x: x if not x.startswith('Unnamed') else None)\n",
        "  daily_cons.dropna(inplace=True)\n",
        "  daily_cons.reset_index(inplace=True,drop=True)\n",
        "  daily_cons.drop(['Type de données'],inplace=True, axis=1)\n",
        "  daily_cons.rename(columns={'Energie journalière (MWh)': \"MWh\"},inplace=True)\n",
        "  daily_cons.rename(columns={'Date': \"date\"},inplace=True)\n",
        "  daily_cons['date'] = pd.to_datetime(daily_cons['date'], format=\"%d/%m/%Y\", errors='coerce')\n",
        "  return daily_cons\n",
        "\n",
        "def data_preparation(years:list):\n",
        "  all_years=None\n",
        "  for year in years:\n",
        "    this_year = get_input_data(year)\n",
        "    assert this_year.shape[0]== 365, f\"Data issue => not 365 days in yer {year}\"\n",
        "    all_years=  pd.concat([all_years, this_year])\n",
        "\n",
        "  all_years.set_index('date', inplace = True)\n",
        "  all_years.sort_index(inplace = True)\n",
        "  all_years = all_years.asfreq('D', method = 'bfill')\n",
        "  return all_years\n",
        "\n",
        "\n",
        "input_data = data_preparation(years)\n",
        "assert int(input_data.shape[0]/len(years))==365\n",
        "\n"
      ],
      "metadata": {
        "collapsed": true,
        "id": "mGmWwtiOfA97"
      },
      "execution_count": null,
      "outputs": []
    },
    {
      "cell_type": "code",
      "source": [
        "\n",
        "# Split train-test\n",
        "# ==============================================================================\n",
        "steps = 30\n",
        "data_train = input_data[:-steps]\n",
        "data_test  = input_data[-steps:]\n",
        "\n",
        "print(\n",
        "    f\"Train dates : {data_train.index.min()} --- \"\n",
        "    f\"{data_train.index.max()}  (n={len(data_train)})\"\n",
        ")\n",
        "print(\n",
        "    f\"Test dates  : {data_test.index.min()} --- \"\n",
        "    f\"{data_test.index.max()}  (n={len(data_test)})\"\n",
        ")\n",
        "\n",
        "fig, ax = plt.subplots(figsize=(10, 3.5))\n",
        "data_train['MWh'].plot(ax=ax, label='train')\n",
        "data_test['MWh'].plot(ax=ax, label='test')\n",
        "ax.legend();\n",
        "\n"
      ],
      "metadata": {
        "id": "CjWu89jPTnUz"
      },
      "execution_count": null,
      "outputs": []
    },
    {
      "cell_type": "markdown",
      "source": [
        "### MODELING 1:    RandomForestRegressor"
      ],
      "metadata": {
        "id": "IpLEYNivGKDD"
      }
    },
    {
      "cell_type": "code",
      "source": [
        "from skforecast.ForecasterAutoreg import ForecasterAutoreg\n",
        "from sklearn.ensemble import RandomForestRegressor\n",
        "\n",
        "# Create and train forecaster\n",
        "# ==============================================================================\n",
        "forecaster = ForecasterAutoreg(\n",
        "                regressor = RandomForestRegressor(random_state=10),\n",
        "                lags      = 6\n",
        "             )\n",
        "forecaster.fit(y=data_train['MWh'])\n",
        "forecaster"
      ],
      "metadata": {
        "colab": {
          "base_uri": "https://localhost:8080/"
        },
        "id": "mFpkPlZJwR-k",
        "outputId": "f23dda21-48ef-49c8-92ad-9975284e3e0f"
      },
      "execution_count": null,
      "outputs": [
        {
          "output_type": "execute_result",
          "data": {
            "text/plain": [
              "================= \n",
              "ForecasterAutoreg \n",
              "================= \n",
              "Regressor: RandomForestRegressor(random_state=10) \n",
              "Lags: [1 2 3 4 5 6] \n",
              "Transformer for y: None \n",
              "Transformer for exog: None \n",
              "Window size: 6 \n",
              "Weight function included: False \n",
              "Differentiation order: None \n",
              "Exogenous included: False \n",
              "Type of exogenous variable: None \n",
              "Exogenous variables names: None \n",
              "Training range: [Timestamp('2022-01-01 00:00:00'), Timestamp('2023-12-01 00:00:00')] \n",
              "Training index type: DatetimeIndex \n",
              "Training index frequency: D \n",
              "Regressor parameters: {'bootstrap': True, 'ccp_alpha': 0.0, 'criterion': 'squared_error', 'max_depth': None, 'max_features': 1.0, 'max_leaf_nodes': None, 'max_samples': None, 'min_impurity_decrease': 0.0, 'min_samples_leaf': 1, 'min_samples_split': 2, 'min_weight_fraction_leaf': 0.0, 'n_estimators': 100, 'n_jobs': None, 'oob_score': False, 'random_state': 10, 'verbose': 0, 'warm_start': False} \n",
              "fit_kwargs: {} \n",
              "Creation date: 2024-07-09 20:17:41 \n",
              "Last fit date: 2024-07-09 20:17:42 \n",
              "Skforecast version: 0.12.1 \n",
              "Python version: 3.10.12 \n",
              "Forecaster id: None "
            ]
          },
          "metadata": {},
          "execution_count": 34
        }
      ]
    },
    {
      "cell_type": "code",
      "source": [
        "# Predictions\n",
        "# ==============================================================================\n",
        "steps = 30\n",
        "predictions = forecaster.predict(steps=steps)\n",
        "predictions.head(5)"
      ],
      "metadata": {
        "colab": {
          "base_uri": "https://localhost:8080/"
        },
        "id": "6nsMrqsUxFF3",
        "outputId": "64558bf7-bb90-411a-fb47-2cdc94b67456"
      },
      "execution_count": null,
      "outputs": [
        {
          "output_type": "execute_result",
          "data": {
            "text/plain": [
              "2023-12-02    1488449.50\n",
              "2023-12-03    1466627.19\n",
              "2023-12-04    1454743.34\n",
              "2023-12-05    1396947.40\n",
              "2023-12-06    1402483.23\n",
              "Freq: D, Name: pred, dtype: float64"
            ]
          },
          "metadata": {},
          "execution_count": 35
        }
      ]
    },
    {
      "cell_type": "code",
      "source": [
        "from sklearn.metrics import mean_squared_error\n",
        "\n",
        "# Test error\n",
        "# ==============================================================================\n",
        "error_mse = mean_squared_error(\n",
        "                y_true = data_test['MWh'],\n",
        "                y_pred = predictions\n",
        "            )\n",
        "print(f\"Test error (MSE): {error_mse}\")"
      ],
      "metadata": {
        "colab": {
          "base_uri": "https://localhost:8080/"
        },
        "id": "6BoMeYCoKMxt",
        "outputId": "64291f93-2bc7-46cb-a3c5-cdd2c1f77cca"
      },
      "execution_count": null,
      "outputs": [
        {
          "output_type": "stream",
          "name": "stdout",
          "text": [
            "Test error (MSE): 30931223268.264275\n"
          ]
        }
      ]
    },
    {
      "cell_type": "code",
      "source": [
        "from skforecast.model_selection import grid_search_forecaster\n",
        "\n",
        "# Hyperparameters: grid search\n",
        "# ==============================================================================\n",
        "steps = 30\n",
        "forecaster = ForecasterAutoreg(\n",
        "                 regressor = RandomForestRegressor(random_state=123),\n",
        "                 lags      = 12 # This value will be replaced in the grid search\n",
        "             )\n",
        "\n",
        "# Candidate values for lags\n",
        "lags_grid = [10, 20]\n",
        "\n",
        "# Candidate values for regressor's hyperparameters\n",
        "param_grid = {\n",
        "    'n_estimators': [100, 250],\n",
        "    'max_depth': [3, 5, 10]\n",
        "}\n",
        "\n",
        "results_grid = grid_search_forecaster(\n",
        "                   forecaster         = forecaster,\n",
        "                   y                  = data_train['MWh'],\n",
        "                   param_grid         = param_grid,\n",
        "                   lags_grid          = lags_grid,\n",
        "                   steps              = steps,\n",
        "                   refit              = False,\n",
        "                   metric             = 'mean_squared_error',\n",
        "                   initial_train_size = int(len(data_train)*0.5),\n",
        "                   fixed_train_size   = False,\n",
        "                   return_best        = True,\n",
        "                   n_jobs             = 'auto',\n",
        "                   verbose            = False\n",
        "               )"
      ],
      "metadata": {
        "colab": {
          "base_uri": "https://localhost:8080/",
          "height": 156,
          "referenced_widgets": [
            "7622b00d3b2a41f584ab186ced178878",
            "3a8f526fd4814a92bb90ec73aecefe85",
            "5433a2f44a8646afa8ebf643d1ba83e2",
            "082f17d77caf46efb68085b637959634",
            "aaafe02921db4f65b2ab1e7f5f0fe976",
            "b2bed72185604439af3eeddd5a362ae5",
            "0e4fab04a3234053a54920770667f661",
            "530268512f614006bb7eb3402b09d933",
            "44e1d76028a04a5fa4623a3ec2d81f13",
            "b1d69feba78f451a952efc37c3e4ae6d",
            "5f51184f252145f09bed5623cb46d288",
            "9504d9dde2354321bd1694533879e8e9",
            "db7257188ec84e86bb6781c2942477b1",
            "0195c58eaada41b49f1d1667faae9abe",
            "e3566ddf240843768685c25a261af07a",
            "57790a2ed638475c9ea3e5e689e0fab4",
            "e38febcce27445cb853e358bc8cda4e3",
            "65ab6c2e53a645ebbb59f94cc63218e5",
            "104b0053e09b43ea88b1a15d44d1c3c4",
            "976f16323f784a93a693a1e674cb0f69",
            "879f6c8d69d54c968bace0955b6fc853",
            "aac536ba81de41cd86b2fd21a730e439"
          ]
        },
        "collapsed": true,
        "id": "8QCQRdkr2B4u",
        "outputId": "c0ae1cfc-bd5d-4526-9aed-9eb210650851"
      },
      "execution_count": null,
      "outputs": [
        {
          "output_type": "stream",
          "name": "stdout",
          "text": [
            "Number of models compared: 12.\n"
          ]
        },
        {
          "output_type": "display_data",
          "data": {
            "text/plain": [
              "lags grid:   0%|          | 0/2 [00:00<?, ?it/s]"
            ],
            "application/vnd.jupyter.widget-view+json": {
              "version_major": 2,
              "version_minor": 0,
              "model_id": "7622b00d3b2a41f584ab186ced178878"
            }
          },
          "metadata": {}
        },
        {
          "output_type": "display_data",
          "data": {
            "text/plain": [
              "params grid:   0%|          | 0/6 [00:00<?, ?it/s]"
            ],
            "application/vnd.jupyter.widget-view+json": {
              "version_major": 2,
              "version_minor": 0,
              "model_id": "9504d9dde2354321bd1694533879e8e9"
            }
          },
          "metadata": {}
        },
        {
          "output_type": "stream",
          "name": "stdout",
          "text": [
            "`Forecaster` refitted using the best-found lags and parameters, and the whole data set: \n",
            "  Lags: [ 1  2  3  4  5  6  7  8  9 10 11 12 13 14 15 16 17 18 19 20] \n",
            "  Parameters: {'max_depth': 10, 'n_estimators': 250}\n",
            "  Backtesting metric: 34249043628.75192\n",
            "\n"
          ]
        }
      ]
    },
    {
      "cell_type": "code",
      "source": [
        "#results_grid\n",
        "results_grid.iloc[11]"
      ],
      "metadata": {
        "colab": {
          "base_uri": "https://localhost:8080/"
        },
        "id": "LKQhUFWZ3mT5",
        "outputId": "c1d875ec-f17c-4026-b5bc-aaa6a5bb5783"
      },
      "execution_count": null,
      "outputs": [
        {
          "output_type": "execute_result",
          "data": {
            "text/plain": [
              "lags                         [1, 2, 3, 4, 5, 6, 7, 8, 9, 10]\n",
              "lags_label                   [1, 2, 3, 4, 5, 6, 7, 8, 9, 10]\n",
              "params                {'max_depth': 10, 'n_estimators': 100}\n",
              "mean_squared_error                        42000003601.309837\n",
              "max_depth                                                 10\n",
              "n_estimators                                             100\n",
              "Name: 4, dtype: object"
            ]
          },
          "metadata": {},
          "execution_count": 47
        }
      ]
    },
    {
      "cell_type": "code",
      "source": [
        "# Create and train forecaster with the best hyperparameters and lags found\n",
        "# ==============================================================================\n",
        "regressor = RandomForestRegressor(n_estimators=100, max_depth=10, random_state=123)\n",
        "forecaster = ForecasterAutoreg(\n",
        "                 regressor = regressor,\n",
        "                 lags      = 10\n",
        "             )\n",
        "forecaster.fit(y=data_train['MWh'])\n",
        "# Predictions best model\n",
        "# ==============================================================================\n",
        "predictions = forecaster.predict(steps=steps)\n",
        "\n",
        "# Plot predictions versus test data\n",
        "# ==============================================================================\n",
        "fig, ax = plt.subplots(figsize=(15, 5))\n",
        "data_train['MWh'].plot(ax=ax, label='train')\n",
        "data_test['MWh'].plot(ax=ax, label='test')\n",
        "predictions.plot(ax=ax, label='predictions')\n",
        "ax.legend();"
      ],
      "metadata": {
        "colab": {
          "base_uri": "https://localhost:8080/",
          "height": 417
        },
        "id": "CYlHk-DR4EPP",
        "outputId": "6ee85d58-48da-4d8b-d7c1-73ff6406a042"
      },
      "execution_count": null,
      "outputs": [
        {
          "output_type": "display_data",
          "data": {
            "text/plain": [
              "<Figure size 1500x500 with 1 Axes>"
            ],
            "image/png": "[encoded data removed]"
          },
          "metadata": {}
        }
      ]
    },
    {
      "cell_type": "markdown",
      "source": [
        "### MODELING 2:   GradientBoostingRegressor"
      ],
      "metadata": {
        "id": "213Y0pYcI3Cj"
      }
    },
    {
      "cell_type": "code",
      "source": [
        "from skforecast.ForecasterAutoreg import ForecasterAutoreg\n",
        "from sklearn.ensemble import  GradientBoostingRegressor\n",
        "import  joblib\n",
        "# Create and train forecaster\n",
        "# ==============================================================================\n",
        "forecaster = ForecasterAutoreg(\n",
        "                regressor = GradientBoostingRegressor(random_state=10),\n",
        "                lags      = 6\n",
        "             )\n",
        "forecaster.fit(y=data_train['MWh'])\n",
        "joblib.dump(forecaster, 'forecaster_model.pkl')\n",
        "forecaster"
      ],
      "metadata": {
        "colab": {
          "base_uri": "https://localhost:8080/"
        },
        "id": "3x8Jmmx3I1WH",
        "outputId": "6bac32f4-24d1-41d3-bd23-5581ac8610f5"
      },
      "execution_count": 60,
      "outputs": [
        {
          "output_type": "execute_result",
          "data": {
            "text/plain": [
              "================= \n",
              "ForecasterAutoreg \n",
              "================= \n",
              "Regressor: GradientBoostingRegressor(random_state=10) \n",
              "Lags: [1 2 3 4 5 6] \n",
              "Transformer for y: None \n",
              "Transformer for exog: None \n",
              "Window size: 6 \n",
              "Weight function included: False \n",
              "Differentiation order: None \n",
              "Exogenous included: False \n",
              "Type of exogenous variable: None \n",
              "Exogenous variables names: None \n",
              "Training range: [Timestamp('2022-01-01 00:00:00'), Timestamp('2023-12-01 00:00:00')] \n",
              "Training index type: DatetimeIndex \n",
              "Training index frequency: D \n",
              "Regressor parameters: {'alpha': 0.9, 'ccp_alpha': 0.0, 'criterion': 'friedman_mse', 'init': None, 'learning_rate': 0.1, 'loss': 'squared_error', 'max_depth': 3, 'max_features': None, 'max_leaf_nodes': None, 'min_impurity_decrease': 0.0, 'min_samples_leaf': 1, 'min_samples_split': 2, 'min_weight_fraction_leaf': 0.0, 'n_estimators': 100, 'n_iter_no_change': None, 'random_state': 10, 'subsample': 1.0, 'tol': 0.0001, 'validation_fraction': 0.1, 'verbose': 0, 'warm_start': False} \n",
              "fit_kwargs: {} \n",
              "Creation date: 2024-07-09 20:50:38 \n",
              "Last fit date: 2024-07-09 20:50:38 \n",
              "Skforecast version: 0.12.1 \n",
              "Python version: 3.10.12 \n",
              "Forecaster id: None "
            ]
          },
          "metadata": {},
          "execution_count": 60
        }
      ]
    },
    {
      "cell_type": "code",
      "source": [
        "from skforecast.ForecasterAutoreg import ForecasterAutoreg\n",
        "from skforecast.model_selection import grid_search_forecaster\n",
        "from sklearn.ensemble import GradientBoostingRegressor\n",
        "\n",
        "# Hyperparameters: grid search\n",
        "# ==============================================================================\n",
        "steps = 30\n",
        "forecaster = ForecasterAutoreg(\n",
        "                 regressor = GradientBoostingRegressor(random_state=123),\n",
        "                 lags      = 12 # This value will be replaced in the grid search\n",
        "             )\n",
        "\n",
        "# Candidate values for lags\n",
        "lags_grid = [10, 20]\n",
        "\n",
        "# Candidate values for regressor's hyperparameters\n",
        "param_grid = {\n",
        "    'n_estimators': [100, 250],\n",
        "    'max_depth': [3, 5, 10],\n",
        "    'learning_rate': [0.01, 0.1],\n",
        "    'subsample': [0.8, 1.0]\n",
        "}\n",
        "\n",
        "results_grid = grid_search_forecaster(\n",
        "                   forecaster         = forecaster,\n",
        "                   y                  = data_train['MWh'],\n",
        "                   param_grid         = param_grid,\n",
        "                   lags_grid          = lags_grid,\n",
        "                   steps              = steps,\n",
        "                   refit              = False,\n",
        "                   metric             = 'mean_squared_error',\n",
        "                   initial_train_size = int(len(data_train)*0.5),\n",
        "                   fixed_train_size   = False,\n",
        "                   return_best        = True,\n",
        "                   n_jobs             = 'auto',\n",
        "                   verbose            = False\n",
        "               )"
      ],
      "metadata": {
        "colab": {
          "base_uri": "https://localhost:8080/",
          "height": 156,
          "referenced_widgets": [
            "642717850fe948cdb9317e089ad0c4de",
            "f38cb1bde9494d89b8c4d6fb29d09994",
            "b16dc80cb9c94006b48a515693a189c9",
            "a4bd842b58524daeb10f5d860f0b78fd",
            "213f4d2f3bd74728a0eb4d8a49685d16",
            "fdffa6631c3441289b036de555601bb6",
            "2d22817a9b764d85877341ef3ce7f3be",
            "860b4296fcad46ce9e75daad48f8ef3e",
            "8c26b6e354c0430aabf09740a1ea0804",
            "edd66bedda234207b22f2a2fb1b9c355",
            "1f699b2ff79e4eca8c56a0c435c72281",
            "f67d079d3e1a4511b3ee54c3b3b23e00",
            "30778273e570438492828446b525487c",
            "b855640802a3471d956ac7a1e65fd41b",
            "92ffce00a3534ed58e56ccaa6bfe65bb",
            "a800b872e81c4b86959b5068a7c3c749",
            "4c3eba12d8774e4c849b9f99cfe55fb5",
            "1c97e98d2cb74bcb80c559f99eac9487",
            "3671b06cdffb4940a2607ff910288443",
            "0919a9450322412fb02d95d203aec004",
            "da9a6417338d4a33ba62e154efe0fe1b",
            "7beb8251b0b644f1a941606e8e7b97f4"
          ]
        },
        "id": "_nU7-lZNJfta",
        "outputId": "8ce7440b-3f0c-4970-f8e1-a411b9344f17"
      },
      "execution_count": 51,
      "outputs": [
        {
          "output_type": "stream",
          "name": "stdout",
          "text": [
            "Number of models compared: 48.\n"
          ]
        },
        {
          "output_type": "display_data",
          "data": {
            "text/plain": [
              "lags grid:   0%|          | 0/2 [00:00<?, ?it/s]"
            ],
            "application/vnd.jupyter.widget-view+json": {
              "version_major": 2,
              "version_minor": 0,
              "model_id": "642717850fe948cdb9317e089ad0c4de"
            }
          },
          "metadata": {}
        },
        {
          "output_type": "display_data",
          "data": {
            "text/plain": [
              "params grid:   0%|          | 0/24 [00:00<?, ?it/s]"
            ],
            "application/vnd.jupyter.widget-view+json": {
              "version_major": 2,
              "version_minor": 0,
              "model_id": "f67d079d3e1a4511b3ee54c3b3b23e00"
            }
          },
          "metadata": {}
        },
        {
          "output_type": "stream",
          "name": "stdout",
          "text": [
            "`Forecaster` refitted using the best-found lags and parameters, and the whole data set: \n",
            "  Lags: [ 1  2  3  4  5  6  7  8  9 10 11 12 13 14 15 16 17 18 19 20] \n",
            "  Parameters: {'learning_rate': 0.01, 'max_depth': 10, 'n_estimators': 250, 'subsample': 1.0}\n",
            "  Backtesting metric: 19074077227.84059\n",
            "\n"
          ]
        }
      ]
    },
    {
      "cell_type": "code",
      "source": [
        "results_grid\n",
        "results_grid.iloc[35]"
      ],
      "metadata": {
        "id": "qUrXT-3gJmMR",
        "colab": {
          "base_uri": "https://localhost:8080/"
        },
        "outputId": "07e7cd2d-4b33-498c-ca4a-0534babe318e"
      },
      "execution_count": 54,
      "outputs": [
        {
          "output_type": "execute_result",
          "data": {
            "text/plain": [
              "lags                                    [1, 2, 3, 4, 5, 6, 7, 8, 9, 10]\n",
              "lags_label                              [1, 2, 3, 4, 5, 6, 7, 8, 9, 10]\n",
              "params                {'learning_rate': 0.01, 'max_depth': 5, 'n_est...\n",
              "mean_squared_error                                   45607008294.284149\n",
              "learning_rate                                                      0.01\n",
              "max_depth                                                           5.0\n",
              "n_estimators                                                      250.0\n",
              "subsample                                                           1.0\n",
              "Name: 7, dtype: object"
            ]
          },
          "metadata": {},
          "execution_count": 54
        }
      ]
    },
    {
      "cell_type": "code",
      "source": [
        "from skforecast.ForecasterAutoreg import ForecasterAutoreg\n",
        "from sklearn.ensemble import GradientBoostingRegressor\n",
        "import matplotlib.pyplot as plt\n",
        "\n",
        "# Best hyperparameters found (example values, replace with actual best values from grid search)\n",
        "regressor = GradientBoostingRegressor(n_estimators=250,\n",
        "                                      max_depth=5,\n",
        "                                      learning_rate=0.1,\n",
        "                                      subsample=0.8, random_state=123)\n",
        "\n",
        "# Create and train forecaster with the best hyperparameters and lags found\n",
        "forecaster = ForecasterAutoreg(\n",
        "                 regressor = regressor,\n",
        "                 lags      = 10\n",
        "             )\n",
        "forecaster.fit(y=data_train['MWh'])\n",
        "\n",
        "# Predictions best model\n",
        "# ==============================================================================\n",
        "steps = 30\n",
        "predictions = forecaster.predict(steps=steps)\n",
        "\n",
        "# Plot predictions versus test data\n",
        "# ==============================================================================\n",
        "fig, ax = plt.subplots(figsize=(15, 5))\n",
        "data_train['MWh'].plot(ax=ax, label='train')\n",
        "data_test['MWh'].plot(ax=ax, label='test')\n",
        "predictions.plot(ax=ax, label='predictions')\n",
        "ax.legend()\n",
        "plt.show()\n"
      ],
      "metadata": {
        "colab": {
          "base_uri": "https://localhost:8080/",
          "height": 417
        },
        "id": "CfVIrDHlMew6",
        "outputId": "c31a5794-4138-4306-ceeb-800b4db64a51"
      },
      "execution_count": 55,
      "outputs": [
        {
          "output_type": "display_data",
          "data": {
            "text/plain": [
              "<Figure size 1500x500 with 1 Axes>"
            ],
            "image/png": "[encoded data removed]"
          },
          "metadata": {}
        }
      ]
    },
    {
      "cell_type": "code",
      "source": [
        "from sklearn.metrics import mean_squared_error\n",
        "\n",
        "# Test error\n",
        "# ==============================================================================\n",
        "error_mse = mean_squared_error(\n",
        "                y_true = data_test['MWh'],\n",
        "                y_pred = predictions\n",
        "            )\n",
        "print(f\"Test error (MSE): {error_mse}\")"
      ],
      "metadata": {
        "colab": {
          "base_uri": "https://localhost:8080/"
        },
        "id": "HrM2C6iMNfdv",
        "outputId": "56588d53-c554-4145-d38e-6e904ee18eb6"
      },
      "execution_count": 56,
      "outputs": [
        {
          "output_type": "stream",
          "name": "stdout",
          "text": [
            "Test error (MSE): 16261773866.004297\n"
          ]
        }
      ]
    },
    {
      "cell_type": "markdown",
      "source": [
        "https://cienciadedatos.net/documentos/py27-time-series-forecasting-python-scikitlearn.html"
      ],
      "metadata": {
        "id": "MJJMN7gDP3v2"
      }
    },
    {
      "cell_type": "code",
      "source": [
        "from sklearn.feature_extraction import DictVectorizer\n",
        "\n",
        "# Sample data: list of dictionaries\n",
        "data = [\n",
        "    {'city': 'New York', 'temperature': 23},\n",
        "    {'city': 'San Francisco', 'temperature': 18},\n",
        "    {'city': 'Chicago', 'temperature': 20},\n",
        "    {'city': 'New York', 'temperature': 21}\n",
        "]\n",
        "\n",
        "# Create a DictVectorizer instance\n",
        "vec = DictVectorizer(sparse=True)\n",
        "\n",
        "# Fit and transform the data\n",
        "data_matrix = vec.fit_transform(data)\n",
        "\n",
        "# Display the feature names\n",
        "print(vec.get_feature_names_out())\n",
        "\n",
        "# Convert the sparse matrix to a dense array for display purposes\n",
        "print(data_matrix.toarray())"
      ],
      "metadata": {
        "colab": {
          "base_uri": "https://localhost:8080/"
        },
        "id": "sajOHzWlN02z",
        "outputId": "366e5b80-c67c-4a3a-cb8d-e3aabb5cb737"
      },
      "execution_count": 61,
      "outputs": [
        {
          "output_type": "stream",
          "name": "stdout",
          "text": [
            "['city=Chicago' 'city=New York' 'city=San Francisco' 'temperature']\n",
            "[[ 0.  1.  0. 23.]\n",
            " [ 0.  0.  1. 18.]\n",
            " [ 1.  0.  0. 20.]\n",
            " [ 0.  1.  0. 21.]]\n"
          ]
        }
      ]
    },
    {
      "cell_type": "code",
      "source": [],
      "metadata": {
        "id": "_0RLE9kkTxss"
      },
      "execution_count": null,
      "outputs": []
    }
  ]
}